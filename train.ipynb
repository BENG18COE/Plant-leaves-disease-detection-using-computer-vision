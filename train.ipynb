{
 "cells": [
  {
   "cell_type": "markdown",
   "metadata": {},
   "source": [
    "# Abrstract\n",
    "Artitifial Intelligenece (AI), is the intelligence demonstrated by machines opposed to that of animals including, humans. This is ability of a computer systems or robot/electronics device to do tasks that are ussually done by humans because they require human/animal intelligence and discrement, such tasks includes natural language processing, decision-making, visual perception, drug discovery, etc. \n",
    "\n",
    "## Machine Learning\n",
    "Machine Learning (ML) is an application of AI that enables systems to learn and advance based on experience without being explicitly programmed. ML focuses on development of computer systems that can learn from data given and draw experience based on data patterns.\n",
    "\n",
    "Machine Learning is application of Inferential Statistics, unlike normal Statistical models which are designed for inference about the relationships between variables, machine learning models ML is designed to make most accurate predictions possible this is possible thanks to imporved Computations and Amount of Data produced.\n",
    "\n",
    ">  **ML is to Statistics as Engineering to Physics**\n",
    "\n",
    "### Types of Machine Learning\n",
    "\n",
    "#### 1. Supervised Learning\n",
    "This is the type of Machine Learning that use labeled examples to train machine learning to train Machine Learning models that can be used classify data or predict. In this type of Machine Learning the possible outcomes are already known and that the data used to train the model is already lebled.\n",
    "\n",
    "#### 2. Unsupervised Learning\n",
    "Unlike Supervised Learning Machine Learning tasks, Unsupervised Learning finds patterns where we don't.\n",
    "Advances of this type of ML is very important to future of AI as it moves AI closer to the Artitifial general Intelligence, such advancement is Generative Adversarial Networks.\n",
    "\n",
    "#### 3. Semi-supervised Learning\n",
    "This is somethime between the above two types, this is used when AI problem required balance of Supervised Learning and unsupervised learning. This invloves creating a machine learning model from small amount of labeled examples and then uses it with unlabeled examples to predict the outputs, linking the outcome and then retrain the model.\n",
    "\n",
    "#### 4. Reinforcement Learning\n",
    "This is the type of dynamic programming that is used to train a machine learning models using systems of reward and punishment. The reiforcement agent learns by intertacting with environment, it receives reward by performing correctly and penalties when doing a task incorrectly. The reiforcement agent learns without having to be directly taught by a human.\n",
    "The agent learns to maximize the reward and minimize the penalty.\n",
    "\n",
    "Example of such agent will an AI agent that play a computer game or an autonomous robot or vehicle.\n",
    "\n",
    "## Deep Learning\n",
    "Deep Leaning is the Specialize form of machine learning. It imitates the working of human brain in processing data and creating partterns. Deep learning uses Networks of Artifical neural networks for machine learning process.\n",
    "\n",
    "This Neural networks are built to resemble the human Neurons, in Deep Learning these Neural networks are designed to process data in non linear way.\n",
    "\n",
    "A standard Machine Learning workflow starts with manually extracting selected features (Consider an Image), normally we will require to get color distribution, pixels invomations, e.t.c. A deep learning workflow differs from this as relevant features are extracted automatically.\n",
    "\n",
    "Deep learning Models are sometimes considered **Universal Functions Estimators** and therefore they outperfoms most Machine Learning algorithms\n",
    "\n",
    "In this Notebook will only limited to convolution neural networks (Focusing on Variant of called resudal networks), also will not go beyond Computer vision."
   ]
  },
  {
   "cell_type": "markdown",
   "metadata": {},
   "source": [
    "# Inroduction\n",
    "\n",
    "A convolutional Neural networks are types of Deep Neural networks used in computer visions applications like (Image classifications, Object Detections).\n",
    "\n",
    "Depending on type of use cases and other factors such as accuracy, computions there are varians of CNN architectures.\n",
    "\n",
    "In this book we will implement one of theses architectures called [ResNet](https://arxiv.org/abs/1512.03385)\n",
    "\n",
    "## ResNet\n",
    "RestNet has Multiple configuration which specify the number of layers and sizes of those layers. Each layer is made out of blocks, made of convolutional layers, bacth normaliztion layers and residual connections (also called skip connections or shortcut connections).\n",
    "\n",
    "ResNet uses the term layer to refer to both a set of blocks e.g \"layer 1 has two blocks\", and also the total number of layers within the entire ResNet, e.g \"ResNet18 has 18 layers\".\n",
    "\n",
    "A residual connection is simply a direct connection between the input of a block and the output of block.\n",
    "\n",
    "It is possible to add layers in residual connection.\n",
    "\n",
    "Residual Network architecture\n",
    "\n",
    "![resnet](https://d2l.ai/_images/resnet-block.svg)\n",
    "\n",
    "The different configurations of ResNet\n",
    "![resnet](https://miro.medium.com/max/1400/1*I2557MCaFdNUm4q9TfvOpw.png)\n",
    "\n",
    "From the table above, we can see that for ResNet18 and ResNet34 that the first block contains two 3x3 convolutional layers with 64 filters, and that ResNet18 has two of these blocks in the first layer, whilst Resnet34 has three. ResNet50, ResNet101 and ResNet152 blocks have a different structure than those in ResNet18 and ResNet34, and these blocks are called bottleneck blocks. Bottleneck blocks reduce the number of number of channels within the input before expanding them back out again. Below shows a standard BasicBlock (left) - used by ResNet18 and ResNet34 - and the Bottleneck block used by ResNet50, ResNet101 and ResNet152.\n",
    "\n",
    "### Why ResNet Works\n",
    "Normally training deep learning is very difficult due to the gradient descent either exploding or vanishing as it get backprogated through many layers, the residual connection allow the model to skip layers, by setting all their weighs to zero and only rely on the residual connection.\n",
    "\n",
    "In theory, if your ResNet152 model can actually learn the desired function between input and output by only using the first 52 layers the remaining 100 layers should set their weights to zero and the output of the 52nd layer will simply pass through the residual connections unhindered. This also allows for the gradient signal to also backpropagate through those 100 layers unhindered too."
   ]
  },
  {
   "cell_type": "markdown",
   "metadata": {},
   "source": [
    "# Setup\n",
    "In this document we will show how to prepare image datasets for image classification, training, validation, and monitoring the model training\n",
    "\n",
    "## Libraries and dependencies\n",
    "\n",
    "We will be using PyTorch as our primary Deep learning library to due it is friendly Syntax and ecosystem integration.\n",
    "\n",
    "We will use Sklearn to capture model metrics like ConfusionMatrix, and matplotlib for plotting training results\n",
    "\n",
    "To help with training and evaluting neural networks in PyTorch flexibly and transparently we will use PyTorch Ignite.\n",
    "\n",
    "We will use TensorBoard, and WandB(Weights and Bias) to monitor training process. TensorBoard provides the visualization and tooling needed for machine learning experimentation, for tracking and visualizing metrics such as loss and accuracy, Visualizing the model graph.\n",
    "\n",
    "WandB is the alternative to TensorBoard that can help you to track metrics similar to TensorBoard with addition to system metrics\n"
   ]
  },
  {
   "cell_type": "code",
   "execution_count": 1,
   "metadata": {},
   "outputs": [],
   "source": [
    "# !pip install pytorch-ignite"
   ]
  },
  {
   "cell_type": "code",
   "execution_count": 2,
   "metadata": {},
   "outputs": [],
   "source": [
    "import torch\n",
    "import torch.nn as nn\n",
    "import torch.optim as optim\n",
    "import torch.utils.data as data\n",
    "import torchvision.transforms as transforms\n",
    "import torchvision.datasets as datasets\n",
    "from ignite.engine import create_supervised_trainer, create_supervised_evaluator\n",
    "from ignite.contrib.handlers import ProgressBar\n",
    "from ignite.handlers import FastaiLRFinder\n",
    "from ignite.contrib.handlers.wandb_logger import *\n",
    "from ignite.handlers import ModelCheckpoint, global_step_from_engine\n",
    "from ignite.contrib.handlers import TensorboardLogger\n",
    "from ignite.engine import Events\n",
    "from ignite.metrics import Accuracy, Loss, Precision, Recall, ConfusionMatrix\n",
    "from sklearn.metrics import ConfusionMatrixDisplay\n",
    "from tqdm import tqdm\n",
    "import matplotlib.pyplot as plt\n",
    "from ResNet import *\n",
    "import numpy as np\n",
    "import copy\n",
    "import os\n",
    "import random\n",
    "import shutil"
   ]
  },
  {
   "cell_type": "code",
   "execution_count": 3,
   "metadata": {},
   "outputs": [],
   "source": [
    "# !pip install pytorch-ignite"
   ]
  },
  {
   "cell_type": "markdown",
   "metadata": {},
   "source": [
    "#### Reproducability\n",
    "\n",
    "A random seed is used to ensure that results are reproducible. In other words, using this parameter makes sure that anyone who re-runs your code will get the exact same outputs. Reproducibility is an extremely important concept in data science and other fields.\n",
    "\n",
    "Deterministic operations are often slower than nondeterministic operations, so single-run performance may decrease for your model. However, determinism may save time in development by facilitating experimentation, debugging, and regression testing."
   ]
  },
  {
   "cell_type": "code",
   "execution_count": 4,
   "metadata": {},
   "outputs": [
    {
     "name": "stdout",
     "output_type": "stream",
     "text": [
      "env: WANDB_MODE=offline\n",
      "env: WANDB_SILENT=true\n"
     ]
    }
   ],
   "source": [
    "# Setting up random seed to ensure repoducibility\n",
    "SEED = 500\n",
    "\n",
    "random.seed(SEED)\n",
    "np.random.seed(SEED)\n",
    "torch.manual_seed(SEED)\n",
    "torch.cuda.manual_seed(SEED)\n",
    "torch.backends.cudnn.deterministic = True\n",
    "\n",
    "%env WANDB_MODE=offline\n",
    "%env WANDB_SILENT=true"
   ]
  },
  {
   "cell_type": "code",
   "execution_count": 5,
   "metadata": {},
   "outputs": [],
   "source": [
    "# REPLACE THESE WITH YOUR OWN KAGGLE USERNAME AND KEY\n",
    "\"\"\"\n",
    "This step is only important if you want to download data from Kaggle.\n",
    "\"\"\"\n",
    "os.environ['KAGGLE_USERNAME'] = \"januarymagori\"\n",
    "os.environ['KAGGLE_KEY'] = \"bc6ce7bdd037b4b7edf3c329d842f4f3\"\n",
    "\n",
    "# !kaggle datasets download smaranjitghose/corn-or-maize-leaf-disease-dataset --unzip\n",
    "# !mkdir datasets/maize-leaf-disease-dataset/\n",
    "# !cp -R data/ datasets/maize-leaf-disease-dataset/images/\n",
    "# !rm -rf data/"
   ]
  },
  {
   "cell_type": "markdown",
   "metadata": {},
   "source": [
    "#### Dataset organization\n",
    "We suggest all the datasets are arranged in the following form\n",
    "\n",
    "```---> datasets/\n",
    "        ---> application-name/\n",
    "                ---> images/\n",
    "                    ---> class1/\n",
    "                    ---> class2/\n",
    "                    ---> classN/\n",
    "\n",
    "\n"
   ]
  },
  {
   "cell_type": "code",
   "execution_count": 6,
   "metadata": {},
   "outputs": [],
   "source": [
    "ROOT = 'datasets/'\n",
    "application_name = 'mangoes-leaves'"
   ]
  },
  {
   "cell_type": "markdown",
   "metadata": {},
   "source": [
    "# Data preparation\n",
    "\n",
    "This is very important part in any machine learning problem since data is main fuel to Machine Learning models, therefore data should be prepared in best way possible.\n",
    "\n",
    "## Train-Tes Split\n",
    "The procedure involves taking a dataset and dividing it into two subsets. The first subset is used to fit the model and is referred to as the training dataset. The second subset is not used to train the model; instead, the input element of the dataset is provided to the model, then predictions are made and compared to the expected values. This second dataset is referred to as the test dataset.\n",
    "\n",
    "This requires that the original dataset to be a suitable representation of the problem domain.\n",
    "\n",
    "> This procedure is not advised when the dataset is small, the reason is it will cause the model to have few examples to learn from\n",
    "\n",
    "For Insuffienct data other methods can be used like \n",
    "* K Cross Validation\n",
    "* Leave One Out cross validation\n",
    "* Stratified\n",
    "* Repeated\n",
    "* Nested\n",
    "\n",
    "Those methods are out scope in this implementation and will not be discussed\n",
    "\n",
    "This Example we will split train-test into 80% and 20% ratio (For experimenting we can try different ratios)\n",
    "\n",
    "## Data Imblance\n",
    "Imbdalanced data refers to those types of datasets where the target class has uneven distribution of observations.\n",
    "\n",
    "Due to challenges in getting data from the data for training the model, and may lead to bias in classifier.\n",
    "\n",
    "To explain data Imbalance we will use Confusion Matrix, to show how the model classifies the target classes and evaluate the model accuracy.\n",
    "\n",
    "### Dealing with Imbdalanced datasets\n",
    "1. Model Metrics\n",
    "The Accuracy\n",
    "The accuracy of a classifier is the total number of correct predictions by the classifier divided by the total number of predictions.\n",
    "This is good for balanced datasets but not for imbalanced datasets.\n",
    "\n",
    "Precision and Recall\n",
    "Precision is the measure of how accurate the classifier’s prediction of a specific class and recall is the measure of the classifier’s ability to identify a class.\n",
    "\n",
    "> We don't expect much impact of balanced datasets but we will store our mode based on F1 score and Accuracy\n",
    "\n",
    "2. Resampling and Undersampling\n",
    "This technique is used to upsample or downsample the minority or majority class. When we are using an imbalanced dataset, we can oversample the minority class using replacement. This technique is called oversampling. Similarly, we can randomly delete rows from the majority class to match them with the minority class which is called undersampling.\n",
    "\n",
    "3. SMOTE\n",
    "Synthetic Minority Oversampling Technique or SMOTE is another technique to oversample the minority class. Simply adding duplicate records of minority class often don’t add any new information to the model.\n",
    "\n",
    "4. Threshold moving\n",
    "In the case of our classifiers, many times classifiers actually predict the probability of class membership. We assign those prediction’s probabilities to a certain class based on a threshold which is usually 0.5, i.e. if the probabilities < 0.5 it belongs to a certain class, and if not it belongs to the other class.\n",
    "\n",
    "For imbalanced class problems, this default threshold may not work properly. We need to change the threshold to the optimum value so that it can efficiently separate two classes. We can use ROC Curves and Precision-Recall Curves to find the optimal threshold for the classifier. We can also use a grid search method or search within a set of values to identify the optimal value."
   ]
  },
  {
   "cell_type": "code",
   "execution_count": 7,
   "metadata": {},
   "outputs": [],
   "source": [
    "\"\"\"\n",
    "Spliting train and test data in 80:20 ratio\n",
    "\n",
    "From our standard dataset organization, we have the following directory structure:\n",
    "images/ folder this should contain all our images separated by class names\n",
    "\n",
    "train/ folder this should contain all our training images\n",
    "test/ folder this should contain all our testing images\n",
    "\n",
    "\"\"\"\n",
    "\n",
    "TRAIN_RATIO = 0.8\n",
    "data_dir = os.path.join(ROOT, application_name)\n",
    "images_dir = os.path.join(data_dir, 'images')\n",
    "train_dir = os.path.join(data_dir, 'train')\n",
    "test_dir = os.path.join(data_dir, 'test')\n",
    "\n",
    "if os.path.exists(train_dir):\n",
    "    shutil.rmtree(train_dir) \n",
    "if os.path.exists(test_dir):\n",
    "    shutil.rmtree(test_dir)\n",
    "    \n",
    "os.makedirs(train_dir)\n",
    "os.makedirs(test_dir)\n",
    "\n",
    "classes = os.listdir(images_dir)\n",
    "\n",
    "for c in classes:\n",
    "    \n",
    "    class_dir = os.path.join(images_dir, c)\n",
    "    \n",
    "    images = os.listdir(class_dir)\n",
    "       \n",
    "    n_train = int(len(images) * TRAIN_RATIO)\n",
    "    \n",
    "    train_images = images[:n_train]\n",
    "    test_images = images[n_train:]\n",
    "    \n",
    "    os.makedirs(os.path.join(train_dir, c), exist_ok = True)\n",
    "    os.makedirs(os.path.join(test_dir, c), exist_ok = True)\n",
    "    \n",
    "    for image in train_images:\n",
    "        image_src = os.path.join(class_dir, image)\n",
    "        image_dst = os.path.join(train_dir, c, image)\n",
    "        try:\n",
    "            shutil.copyfile(image_src, image_dst)\n",
    "        except:\n",
    "            pass\n",
    "        \n",
    "    for image in test_images:\n",
    "        image_src = os.path.join(class_dir, image)\n",
    "        image_dst = os.path.join(test_dir, c, image) \n",
    "        try:\n",
    "            shutil.copyfile(image_src, image_dst)\n",
    "        except:\n",
    "            pass"
   ]
  },
  {
   "cell_type": "markdown",
   "metadata": {},
   "source": [
    "## Image Processing\n",
    "\n",
    "### Datasets and Dataloaders\n",
    "\n",
    "PyTorch provide are very easy way of processing data samples and maintaining them.\n",
    "\n",
    "It is good practice to decouple our datasets code from our model training code for modularity and maintainability.\n",
    "\n",
    "Pytorch Provide two primitives: <pre><code>torch.utils.data.DataLoader</code></pre> <pre><code>torch.utils.data.Dataset</code></pre> \n",
    "that allows loading pre-loaded datases or custom datasets\n",
    "\n",
    "### Image Normalization\n",
    "Image Normalization is a the process of changing the range of pixel intensity values, the reason we require this step is because during the training process we are goin to multiply weights and adding to (biases) in order to cause activation that we then propagate with gradient to train the model. This process should be repeated for each feature so our gradient remains in control.\n",
    "\n",
    "### Transformation\n",
    "In order to improve our model accuracy we need to make some transforms to our datasets, such cropping, rotation, scalling and also we need to transform the image into **Tensor** that can be used as input to our model"
   ]
  },
  {
   "cell_type": "code",
   "execution_count": 8,
   "metadata": {},
   "outputs": [
    {
     "name": "stdout",
     "output_type": "stream",
     "text": [
      "Calculated means: tensor([0.2146, 0.2556, 0.2493])\n",
      "Calculated stds: tensor([0.0662, 0.0954, 0.0837])\n"
     ]
    }
   ],
   "source": [
    "\"\"\"\n",
    "Loading custom data from the train and test folders,\n",
    "\n",
    "Also we calculate means and standard deviation that we'll use for Normalization\n",
    "\"\"\"\n",
    "train_data = datasets.ImageFolder(\n",
    "    root = train_dir,\n",
    "    transform = transforms.ToTensor()\n",
    ")\n",
    "means = torch.zeros(3)\n",
    "stds = torch.zeros(3)\n",
    "\n",
    "for img, label in train_data:\n",
    "    means += torch.mean(img, dim = (1,2))\n",
    "    stds += torch.std(img, dim = (1,2))\n",
    "\n",
    "means /= len(train_data)\n",
    "stds /= len(train_data)\n",
    "    \n",
    "print(f'Calculated means: {means}')\n",
    "print(f'Calculated stds: {stds}')\n",
    "\n",
    "# Calculated means: tensor([0.2399, 0.2776, 0.2590])\n",
    "# Calculated stds: tensor([0.0703, 0.0997, 0.0848])\n",
    "\n",
    "# Calculated means: tensor([0.7322, 0.6320, 0.5282])\n",
    "# Calculated stds: tensor([0.2886, 0.3069, 0.3414])"
   ]
  },
  {
   "cell_type": "code",
   "execution_count": 9,
   "metadata": {},
   "outputs": [],
   "source": [
    "\"\"\"\n",
    "we need to apply different transformation to help our model generalize the data, and\n",
    "In this step we resize our dataset into a fixed size (32 x 32) we choose this to increase the training process\n",
    "We apply random horizontal flipping, rotation and crop\n",
    "\n",
    "After transformation we apply it loaded image\n",
    "\"\"\"\n",
    "train_transforms = transforms.Compose([\n",
    "                           transforms.Resize((32, 32)),\n",
    "                           transforms.RandomRotation(5),\n",
    "                           transforms.RandomHorizontalFlip(0.5),\n",
    "                           transforms.RandomCrop(32, padding = 10),\n",
    "                           transforms.ToTensor(),\n",
    "                           transforms.Normalize(mean = means, \n",
    "                                                std = stds)\n",
    "                       ])\n",
    "\n",
    "test_transforms = transforms.Compose([\n",
    "                           transforms.Resize((32, 32)),\n",
    "                           transforms.CenterCrop(32),\n",
    "                           transforms.ToTensor(),\n",
    "                           transforms.Normalize(mean = means, \n",
    "                                                std = stds)\n",
    "                       ])\n",
    "\n",
    "train_data = datasets.ImageFolder(root = train_dir, \n",
    "                                  transform = train_transforms)\n",
    "\n",
    "test_data = datasets.ImageFolder(root = test_dir, \n",
    "                                 transform = test_transforms)"
   ]
  },
  {
   "cell_type": "code",
   "execution_count": 10,
   "metadata": {},
   "outputs": [
    {
     "name": "stdout",
     "output_type": "stream",
     "text": [
      "Number of training examples: 3\n",
      "Number of validation examples: 33\n",
      "Number of testing examples: 10\n"
     ]
    }
   ],
   "source": [
    "VALID_RATIO = 0.1\n",
    "\n",
    "n_train_examples = int(len(train_data) * VALID_RATIO)\n",
    "n_valid_examples = len(train_data) - n_train_examples\n",
    "\n",
    "train_data, valid_data = data.random_split(train_data, \n",
    "                                           [n_train_examples, n_valid_examples])\n",
    "valid_data = copy.deepcopy(valid_data)\n",
    "valid_data.dataset.transform = test_transforms\n",
    "print(f'Number of training examples: {len(train_data)}')\n",
    "print(f'Number of validation examples: {len(valid_data)}')\n",
    "print(f'Number of testing examples: {len(test_data)}')"
   ]
  },
  {
   "cell_type": "code",
   "execution_count": 11,
   "metadata": {},
   "outputs": [],
   "source": [
    "\"\"\"\n",
    "We will load 32 images at a time to train our model and we will use the same during validation\n",
    "num_workers = 0 means that we will use only one core to load the data, PyTorch provide parallel training in case we use multi-core GPU/CPU\n",
    "\"\"\"\n",
    "\n",
    "BATCH_SIZE = 32\n",
    "\n",
    "train_iterator = data.DataLoader(train_data, \n",
    "                                num_workers=0,\n",
    "                                 shuffle = True, \n",
    "                                 batch_size = BATCH_SIZE)\n",
    "\n",
    "valid_iterator = data.DataLoader(valid_data, \n",
    "num_workers=0,\n",
    "                                 batch_size = BATCH_SIZE)\n",
    "\n",
    "test_iterator = data.DataLoader(test_data, \n",
    "                                batch_size = BATCH_SIZE)"
   ]
  },
  {
   "cell_type": "code",
   "execution_count": 12,
   "metadata": {},
   "outputs": [],
   "source": [
    "\"\"\"\n",
    "Normalize Images\n",
    "\"\"\"\n",
    "def normalize_image(image):\n",
    "    image_min = image.min()\n",
    "    image_max = image.max() \n",
    "    image.clamp_(min = image_min, max = image_max)\n",
    "    image.add_(-image_min).div_(image_max - image_min + 1e-5)\n",
    "    return image    "
   ]
  },
  {
   "cell_type": "code",
   "execution_count": 13,
   "metadata": {},
   "outputs": [],
   "source": [
    "def plot_images(images, labels, classes, normalize = True):\n",
    "    \"\"\"\n",
    "    It is good practice to visualize dataset before strating working with It to understand the data\n",
    "    \"\"\"\n",
    "    n_images = len(images)\n",
    "\n",
    "    rows = int(np.sqrt(n_images))\n",
    "    cols = int(np.sqrt(n_images))\n",
    "\n",
    "    fig = plt.figure(figsize = (15, 15))\n",
    "\n",
    "    for i in range(rows*cols):\n",
    "\n",
    "        ax = fig.add_subplot(rows, cols, i+1 )\n",
    "        \n",
    "        image = images[i]\n",
    "\n",
    "        if normalize:\n",
    "            image = normalize_image(image)\n",
    "\n",
    "        ax.imshow(image.permute(1, 2, 0).cpu().numpy())\n",
    "        # plt.hist(image.cpu().numpy().ravel(), bins = 30, density = True)\n",
    "        label = classes[labels[i]]\n",
    "        ax.set_title(label)\n",
    "        ax.axis('off')"
   ]
  },
  {
   "cell_type": "code",
   "execution_count": 14,
   "metadata": {},
   "outputs": [
    {
     "data": {
      "image/png": "[encoded data removed]",
      "text/plain": [
       "<Figure size 1080x1080 with 1 Axes>"
      ]
     },
     "metadata": {
      "needs_background": "light"
     },
     "output_type": "display_data"
    }
   ],
   "source": [
    "N_IMAGES = 2\n",
    "images, labels = zip(*[(image, label) for image, label in \n",
    "                           [train_data[i] for i in range(N_IMAGES)]])\n",
    "classes = test_data.classes\n",
    "plot_images(images, labels, classes)"
   ]
  },
  {
   "cell_type": "code",
   "execution_count": 15,
   "metadata": {},
   "outputs": [],
   "source": [
    "def format_label(label):\n",
    "    label = label.split('.')[-1]\n",
    "    label = label.replace('_', ' ')\n",
    "    label = label.title()\n",
    "    label = label.replace(' ', '')\n",
    "    return label"
   ]
  },
  {
   "cell_type": "code",
   "execution_count": 16,
   "metadata": {},
   "outputs": [
    {
     "data": {
      "image/png": "[encoded data removed]",
      "text/plain": [
       "<Figure size 1080x1080 with 1 Axes>"
      ]
     },
     "metadata": {
      "needs_background": "light"
     },
     "output_type": "display_data"
    }
   ],
   "source": [
    "test_data.classes = [format_label(c) for c in test_data.classes]\n",
    "plot_images(images, labels, classes)"
   ]
  },
  {
   "cell_type": "code",
   "execution_count": 17,
   "metadata": {},
   "outputs": [
    {
     "name": "stdout",
     "output_type": "stream",
     "text": [
      "2\n"
     ]
    }
   ],
   "source": [
    "\"\"\"\n",
    "Loading ResNet variant model, we will strat with ResNet18, depending on the permance we can update the model with deeper version\n",
    "\"\"\"\n",
    "\n",
    "model = resnet18(num_classes=len(classes))\n",
    "\n",
    "# model = resnet101(num_classes=len(classes))"
   ]
  },
  {
   "cell_type": "code",
   "execution_count": 18,
   "metadata": {},
   "outputs": [
    {
     "name": "stdout",
     "output_type": "stream",
     "text": [
      "The model has 11,177,538 trainable parameters\n"
     ]
    }
   ],
   "source": [
    "\"\"\" \n",
    "Number of parameters in the model\n",
    "\"\"\"\n",
    "def count_parameters(model):\n",
    "    return sum(p.numel() for p in model.parameters() if p.requires_grad)\n",
    "print(f'The model has {count_parameters(model):,} trainable parameters')"
   ]
  },
  {
   "cell_type": "code",
   "execution_count": 19,
   "metadata": {},
   "outputs": [
    {
     "data": {
      "application/vnd.jupyter.widget-view+json": {
       "model_id": "b4d8d3f87ed54af29120484e31d9f454",
       "version_major": 2,
       "version_minor": 0
      },
      "text/plain": [
       "[1/1] 100%|########## [00:00<?]"
      ]
     },
     "metadata": {},
     "output_type": "display_data"
    },
    {
     "data": {
      "application/vnd.jupyter.widget-view+json": {
       "model_id": "7d8cd5de7ab44aa7a6ea315971bd34cb",
       "version_major": 2,
       "version_minor": 0
      },
      "text/plain": [
       "[1/1] 100%|########## [00:00<?]"
      ]
     },
     "metadata": {},
     "output_type": "display_data"
    },
    {
     "data": {
      "application/vnd.jupyter.widget-view+json": {
       "model_id": "9d9fe469ba364b1189c036f48343f54e",
       "version_major": 2,
       "version_minor": 0
      },
      "text/plain": [
       "[1/1] 100%|########## [00:00<?]"
      ]
     },
     "metadata": {},
     "output_type": "display_data"
    },
    {
     "data": {
      "application/vnd.jupyter.widget-view+json": {
       "model_id": "210029f71deb4becb06fe4c3772be3e8",
       "version_major": 2,
       "version_minor": 0
      },
      "text/plain": [
       "[1/1] 100%|########## [00:00<?]"
      ]
     },
     "metadata": {},
     "output_type": "display_data"
    },
    {
     "data": {
      "application/vnd.jupyter.widget-view+json": {
       "model_id": "10dfa0c5fa4a4adeaf2b301831aee114",
       "version_major": 2,
       "version_minor": 0
      },
      "text/plain": [
       "[1/1] 100%|########## [00:00<?]"
      ]
     },
     "metadata": {},
     "output_type": "display_data"
    },
    {
     "data": {
      "application/vnd.jupyter.widget-view+json": {
       "model_id": "b0774a1f5213484a8059ebe6a4e1d456",
       "version_major": 2,
       "version_minor": 0
      },
      "text/plain": [
       "[1/1] 100%|########## [00:00<?]"
      ]
     },
     "metadata": {},
     "output_type": "display_data"
    },
    {
     "data": {
      "application/vnd.jupyter.widget-view+json": {
       "model_id": "4447a269b4ea4cebb3ea57d43923dd3d",
       "version_major": 2,
       "version_minor": 0
      },
      "text/plain": [
       "[1/1] 100%|########## [00:00<?]"
      ]
     },
     "metadata": {},
     "output_type": "display_data"
    },
    {
     "data": {
      "application/vnd.jupyter.widget-view+json": {
       "model_id": "9afa4f4ee8954cb4868a38d77efe77c9",
       "version_major": 2,
       "version_minor": 0
      },
      "text/plain": [
       "[1/1] 100%|########## [00:00<?]"
      ]
     },
     "metadata": {},
     "output_type": "display_data"
    },
    {
     "data": {
      "application/vnd.jupyter.widget-view+json": {
       "model_id": "e4d3083603564ebd8930a7a689988ad5",
       "version_major": 2,
       "version_minor": 0
      },
      "text/plain": [
       "[1/1] 100%|########## [00:00<?]"
      ]
     },
     "metadata": {},
     "output_type": "display_data"
    },
    {
     "data": {
      "application/vnd.jupyter.widget-view+json": {
       "model_id": "68db93b4c9d34077ba212776ceee9cb5",
       "version_major": 2,
       "version_minor": 0
      },
      "text/plain": [
       "[1/1] 100%|########## [00:00<?]"
      ]
     },
     "metadata": {},
     "output_type": "display_data"
    },
    {
     "data": {
      "application/vnd.jupyter.widget-view+json": {
       "model_id": "8bfb0d93dc844c8d9590bd9629ad0151",
       "version_major": 2,
       "version_minor": 0
      },
      "text/plain": [
       "[1/1] 100%|########## [00:00<?]"
      ]
     },
     "metadata": {},
     "output_type": "display_data"
    },
    {
     "data": {
      "application/vnd.jupyter.widget-view+json": {
       "model_id": "dfa6fd47a40545738e3b15091f74099c",
       "version_major": 2,
       "version_minor": 0
      },
      "text/plain": [
       "[1/1] 100%|########## [00:00<?]"
      ]
     },
     "metadata": {},
     "output_type": "display_data"
    },
    {
     "data": {
      "application/vnd.jupyter.widget-view+json": {
       "model_id": "b3500a9dc8734633a4cad13f1bfeda75",
       "version_major": 2,
       "version_minor": 0
      },
      "text/plain": [
       "[1/1] 100%|########## [00:00<?]"
      ]
     },
     "metadata": {},
     "output_type": "display_data"
    },
    {
     "data": {
      "application/vnd.jupyter.widget-view+json": {
       "model_id": "25454f34abd04c7bbe4547414394ee8c",
       "version_major": 2,
       "version_minor": 0
      },
      "text/plain": [
       "[1/1] 100%|########## [00:00<?]"
      ]
     },
     "metadata": {},
     "output_type": "display_data"
    },
    {
     "data": {
      "application/vnd.jupyter.widget-view+json": {
       "model_id": "9666fc28d43e420a9e28188d187d681f",
       "version_major": 2,
       "version_minor": 0
      },
      "text/plain": [
       "[1/1] 100%|########## [00:00<?]"
      ]
     },
     "metadata": {},
     "output_type": "display_data"
    },
    {
     "data": {
      "application/vnd.jupyter.widget-view+json": {
       "model_id": "50a8f317724a4bb9971f26531e707011",
       "version_major": 2,
       "version_minor": 0
      },
      "text/plain": [
       "[1/1] 100%|########## [00:00<?]"
      ]
     },
     "metadata": {},
     "output_type": "display_data"
    },
    {
     "data": {
      "application/vnd.jupyter.widget-view+json": {
       "model_id": "41898ad14d98476794d1b5de3b44b478",
       "version_major": 2,
       "version_minor": 0
      },
      "text/plain": [
       "[1/1] 100%|########## [00:00<?]"
      ]
     },
     "metadata": {},
     "output_type": "display_data"
    },
    {
     "data": {
      "application/vnd.jupyter.widget-view+json": {
       "model_id": "ead06a54203447e48e6380bb8a69b7fa",
       "version_major": 2,
       "version_minor": 0
      },
      "text/plain": [
       "[1/1] 100%|########## [00:00<?]"
      ]
     },
     "metadata": {},
     "output_type": "display_data"
    },
    {
     "data": {
      "application/vnd.jupyter.widget-view+json": {
       "model_id": "e1e585bef15f4671b3d8f3c10ef54d09",
       "version_major": 2,
       "version_minor": 0
      },
      "text/plain": [
       "[1/1] 100%|########## [00:00<?]"
      ]
     },
     "metadata": {},
     "output_type": "display_data"
    },
    {
     "data": {
      "application/vnd.jupyter.widget-view+json": {
       "model_id": "7c0df232e0104a69aa5cc12a771a8ab3",
       "version_major": 2,
       "version_minor": 0
      },
      "text/plain": [
       "[1/1] 100%|########## [00:00<?]"
      ]
     },
     "metadata": {},
     "output_type": "display_data"
    },
    {
     "data": {
      "application/vnd.jupyter.widget-view+json": {
       "model_id": "29c3716fcc8f46ebbfdb3af7af35bf16",
       "version_major": 2,
       "version_minor": 0
      },
      "text/plain": [
       "[1/1] 100%|########## [00:00<?]"
      ]
     },
     "metadata": {},
     "output_type": "display_data"
    },
    {
     "data": {
      "application/vnd.jupyter.widget-view+json": {
       "model_id": "55bff881fd8c4d3b9154da7be74cb225",
       "version_major": 2,
       "version_minor": 0
      },
      "text/plain": [
       "[1/1] 100%|########## [00:00<?]"
      ]
     },
     "metadata": {},
     "output_type": "display_data"
    },
    {
     "data": {
      "application/vnd.jupyter.widget-view+json": {
       "model_id": "9dc64a3af6e94f5fb43234110ec1c217",
       "version_major": 2,
       "version_minor": 0
      },
      "text/plain": [
       "[1/1] 100%|########## [00:00<?]"
      ]
     },
     "metadata": {},
     "output_type": "display_data"
    },
    {
     "data": {
      "application/vnd.jupyter.widget-view+json": {
       "model_id": "99327070586c4d4492d385bda9684208",
       "version_major": 2,
       "version_minor": 0
      },
      "text/plain": [
       "[1/1] 100%|########## [00:00<?]"
      ]
     },
     "metadata": {},
     "output_type": "display_data"
    },
    {
     "data": {
      "application/vnd.jupyter.widget-view+json": {
       "model_id": "04db261b455f4e9c9ff6294700389d76",
       "version_major": 2,
       "version_minor": 0
      },
      "text/plain": [
       "[1/1] 100%|########## [00:00<?]"
      ]
     },
     "metadata": {},
     "output_type": "display_data"
    },
    {
     "data": {
      "application/vnd.jupyter.widget-view+json": {
       "model_id": "c8f519a0b076455ea5ffd1d9ed6962bd",
       "version_major": 2,
       "version_minor": 0
      },
      "text/plain": [
       "[1/1] 100%|########## [00:00<?]"
      ]
     },
     "metadata": {},
     "output_type": "display_data"
    },
    {
     "data": {
      "application/vnd.jupyter.widget-view+json": {
       "model_id": "e6ccc4572bed4202b7c187a50c966c74",
       "version_major": 2,
       "version_minor": 0
      },
      "text/plain": [
       "[1/1] 100%|########## [00:00<?]"
      ]
     },
     "metadata": {},
     "output_type": "display_data"
    },
    {
     "data": {
      "application/vnd.jupyter.widget-view+json": {
       "model_id": "6a2dbf67ca784840876d47c2def26422",
       "version_major": 2,
       "version_minor": 0
      },
      "text/plain": [
       "[1/1] 100%|########## [00:00<?]"
      ]
     },
     "metadata": {},
     "output_type": "display_data"
    },
    {
     "data": {
      "application/vnd.jupyter.widget-view+json": {
       "model_id": "bf02a3ce058049d6b9468485ab761867",
       "version_major": 2,
       "version_minor": 0
      },
      "text/plain": [
       "[1/1] 100%|########## [00:00<?]"
      ]
     },
     "metadata": {},
     "output_type": "display_data"
    },
    {
     "data": {
      "application/vnd.jupyter.widget-view+json": {
       "model_id": "051dfab24ce84a90bb3042573298d650",
       "version_major": 2,
       "version_minor": 0
      },
      "text/plain": [
       "[1/1] 100%|########## [00:00<?]"
      ]
     },
     "metadata": {},
     "output_type": "display_data"
    },
    {
     "data": {
      "application/vnd.jupyter.widget-view+json": {
       "model_id": "ddae63eb154341139501c24ee456021e",
       "version_major": 2,
       "version_minor": 0
      },
      "text/plain": [
       "[1/1] 100%|########## [00:00<?]"
      ]
     },
     "metadata": {},
     "output_type": "display_data"
    },
    {
     "data": {
      "application/vnd.jupyter.widget-view+json": {
       "model_id": "254b9f658ecf4b9e8c532fa6c9cc6181",
       "version_major": 2,
       "version_minor": 0
      },
      "text/plain": [
       "[1/1] 100%|########## [00:00<?]"
      ]
     },
     "metadata": {},
     "output_type": "display_data"
    },
    {
     "data": {
      "application/vnd.jupyter.widget-view+json": {
       "model_id": "3cc0f0ef3c7b476195c21ca90f8fce44",
       "version_major": 2,
       "version_minor": 0
      },
      "text/plain": [
       "[1/1] 100%|########## [00:00<?]"
      ]
     },
     "metadata": {},
     "output_type": "display_data"
    },
    {
     "data": {
      "application/vnd.jupyter.widget-view+json": {
       "model_id": "fbef4f9d3abc455d82ae1cf2ff331070",
       "version_major": 2,
       "version_minor": 0
      },
      "text/plain": [
       "[1/1] 100%|########## [00:00<?]"
      ]
     },
     "metadata": {},
     "output_type": "display_data"
    },
    {
     "data": {
      "application/vnd.jupyter.widget-view+json": {
       "model_id": "72122c8834df4c5f94d5357116960b38",
       "version_major": 2,
       "version_minor": 0
      },
      "text/plain": [
       "[1/1] 100%|########## [00:00<?]"
      ]
     },
     "metadata": {},
     "output_type": "display_data"
    },
    {
     "data": {
      "application/vnd.jupyter.widget-view+json": {
       "model_id": "c9f32a0eba564002bd57025acf10b262",
       "version_major": 2,
       "version_minor": 0
      },
      "text/plain": [
       "[1/1] 100%|########## [00:00<?]"
      ]
     },
     "metadata": {},
     "output_type": "display_data"
    },
    {
     "data": {
      "application/vnd.jupyter.widget-view+json": {
       "model_id": "6005eb8bec9b431b9ea5e48586abe4d8",
       "version_major": 2,
       "version_minor": 0
      },
      "text/plain": [
       "[1/1] 100%|########## [00:00<?]"
      ]
     },
     "metadata": {},
     "output_type": "display_data"
    },
    {
     "data": {
      "application/vnd.jupyter.widget-view+json": {
       "model_id": "7cc6c8137f0b467485f9380098021a60",
       "version_major": 2,
       "version_minor": 0
      },
      "text/plain": [
       "[1/1] 100%|########## [00:00<?]"
      ]
     },
     "metadata": {},
     "output_type": "display_data"
    },
    {
     "data": {
      "application/vnd.jupyter.widget-view+json": {
       "model_id": "834dde62c027410ba732a53435be81b3",
       "version_major": 2,
       "version_minor": 0
      },
      "text/plain": [
       "[1/1] 100%|########## [00:00<?]"
      ]
     },
     "metadata": {},
     "output_type": "display_data"
    },
    {
     "data": {
      "application/vnd.jupyter.widget-view+json": {
       "model_id": "8efc8d52005c4e71808cd0cbdec7e0c4",
       "version_major": 2,
       "version_minor": 0
      },
      "text/plain": [
       "[1/1] 100%|########## [00:00<?]"
      ]
     },
     "metadata": {},
     "output_type": "display_data"
    },
    {
     "data": {
      "application/vnd.jupyter.widget-view+json": {
       "model_id": "efb680245c264462946f06500639010a",
       "version_major": 2,
       "version_minor": 0
      },
      "text/plain": [
       "[1/1] 100%|########## [00:00<?]"
      ]
     },
     "metadata": {},
     "output_type": "display_data"
    },
    {
     "data": {
      "application/vnd.jupyter.widget-view+json": {
       "model_id": "2f23e6e074344b08891e9a178d2ea394",
       "version_major": 2,
       "version_minor": 0
      },
      "text/plain": [
       "[1/1] 100%|########## [00:00<?]"
      ]
     },
     "metadata": {},
     "output_type": "display_data"
    },
    {
     "data": {
      "application/vnd.jupyter.widget-view+json": {
       "model_id": "379fec6267254b918120aea5158ad691",
       "version_major": 2,
       "version_minor": 0
      },
      "text/plain": [
       "[1/1] 100%|########## [00:00<?]"
      ]
     },
     "metadata": {},
     "output_type": "display_data"
    },
    {
     "data": {
      "application/vnd.jupyter.widget-view+json": {
       "model_id": "def0db9f1bc941cf92c782e0bd7cc97c",
       "version_major": 2,
       "version_minor": 0
      },
      "text/plain": [
       "[1/1] 100%|########## [00:00<?]"
      ]
     },
     "metadata": {},
     "output_type": "display_data"
    },
    {
     "data": {
      "application/vnd.jupyter.widget-view+json": {
       "model_id": "6efbb669a4134094b2bd36cf63c08876",
       "version_major": 2,
       "version_minor": 0
      },
      "text/plain": [
       "[1/1] 100%|########## [00:00<?]"
      ]
     },
     "metadata": {},
     "output_type": "display_data"
    },
    {
     "data": {
      "application/vnd.jupyter.widget-view+json": {
       "model_id": "8ad20633c6814bcea82722a609c21939",
       "version_major": 2,
       "version_minor": 0
      },
      "text/plain": [
       "[1/1] 100%|########## [00:00<?]"
      ]
     },
     "metadata": {},
     "output_type": "display_data"
    },
    {
     "data": {
      "application/vnd.jupyter.widget-view+json": {
       "model_id": "dc26621baf974a6ba74689aa4c365961",
       "version_major": 2,
       "version_minor": 0
      },
      "text/plain": [
       "[1/1] 100%|########## [00:00<?]"
      ]
     },
     "metadata": {},
     "output_type": "display_data"
    },
    {
     "data": {
      "application/vnd.jupyter.widget-view+json": {
       "model_id": "51ed5d8363104d5fadb4da3a136da4a2",
       "version_major": 2,
       "version_minor": 0
      },
      "text/plain": [
       "[1/1] 100%|########## [00:00<?]"
      ]
     },
     "metadata": {},
     "output_type": "display_data"
    },
    {
     "data": {
      "application/vnd.jupyter.widget-view+json": {
       "model_id": "64c1a706e84e48d59685867ba3995d23",
       "version_major": 2,
       "version_minor": 0
      },
      "text/plain": [
       "[1/1] 100%|########## [00:00<?]"
      ]
     },
     "metadata": {},
     "output_type": "display_data"
    },
    {
     "data": {
      "application/vnd.jupyter.widget-view+json": {
       "model_id": "c894e6711efb4a1d906ee71ed941eb3f",
       "version_major": 2,
       "version_minor": 0
      },
      "text/plain": [
       "[1/1] 100%|########## [00:00<?]"
      ]
     },
     "metadata": {},
     "output_type": "display_data"
    },
    {
     "data": {
      "application/vnd.jupyter.widget-view+json": {
       "model_id": "8daa49a8813047fd9b5699b8b19aa294",
       "version_major": 2,
       "version_minor": 0
      },
      "text/plain": [
       "[1/1] 100%|########## [00:00<?]"
      ]
     },
     "metadata": {},
     "output_type": "display_data"
    },
    {
     "data": {
      "application/vnd.jupyter.widget-view+json": {
       "model_id": "0608748d9c1c4b08932334b74868e4e2",
       "version_major": 2,
       "version_minor": 0
      },
      "text/plain": [
       "[1/1] 100%|########## [00:02<?]"
      ]
     },
     "metadata": {},
     "output_type": "display_data"
    },
    {
     "data": {
      "application/vnd.jupyter.widget-view+json": {
       "model_id": "1a6618e135354f3988746b57d57521e3",
       "version_major": 2,
       "version_minor": 0
      },
      "text/plain": [
       "[1/1] 100%|########## [00:00<?]"
      ]
     },
     "metadata": {},
     "output_type": "display_data"
    },
    {
     "data": {
      "application/vnd.jupyter.widget-view+json": {
       "model_id": "101a4970f5d146c483f76a7ebe660eff",
       "version_major": 2,
       "version_minor": 0
      },
      "text/plain": [
       "[1/1] 100%|########## [00:00<?]"
      ]
     },
     "metadata": {},
     "output_type": "display_data"
    },
    {
     "data": {
      "application/vnd.jupyter.widget-view+json": {
       "model_id": "9cfc6b4ce1974543a75508a462bba60c",
       "version_major": 2,
       "version_minor": 0
      },
      "text/plain": [
       "[1/1] 100%|########## [00:00<?]"
      ]
     },
     "metadata": {},
     "output_type": "display_data"
    },
    {
     "data": {
      "application/vnd.jupyter.widget-view+json": {
       "model_id": "cfae9af460bf4dc1bf95268882e1acd5",
       "version_major": 2,
       "version_minor": 0
      },
      "text/plain": [
       "[1/1] 100%|########## [00:00<?]"
      ]
     },
     "metadata": {},
     "output_type": "display_data"
    },
    {
     "data": {
      "application/vnd.jupyter.widget-view+json": {
       "model_id": "5937f2ea65304007b255748fcce3d1d0",
       "version_major": 2,
       "version_minor": 0
      },
      "text/plain": [
       "[1/1] 100%|########## [00:00<?]"
      ]
     },
     "metadata": {},
     "output_type": "display_data"
    },
    {
     "data": {
      "application/vnd.jupyter.widget-view+json": {
       "model_id": "cb24cdf2701b47248bea07a282f6a340",
       "version_major": 2,
       "version_minor": 0
      },
      "text/plain": [
       "[1/1] 100%|########## [00:00<?]"
      ]
     },
     "metadata": {},
     "output_type": "display_data"
    },
    {
     "data": {
      "application/vnd.jupyter.widget-view+json": {
       "model_id": "96354f501b2e4f8c893226f42b62975b",
       "version_major": 2,
       "version_minor": 0
      },
      "text/plain": [
       "[1/1] 100%|########## [00:00<?]"
      ]
     },
     "metadata": {},
     "output_type": "display_data"
    },
    {
     "data": {
      "application/vnd.jupyter.widget-view+json": {
       "model_id": "4e6106ec430e4a5bae376ba5339c84de",
       "version_major": 2,
       "version_minor": 0
      },
      "text/plain": [
       "[1/1] 100%|########## [00:00<?]"
      ]
     },
     "metadata": {},
     "output_type": "display_data"
    },
    {
     "data": {
      "application/vnd.jupyter.widget-view+json": {
       "model_id": "39a40525c9124ee8b209e9f411005c8e",
       "version_major": 2,
       "version_minor": 0
      },
      "text/plain": [
       "[1/1] 100%|########## [00:00<?]"
      ]
     },
     "metadata": {},
     "output_type": "display_data"
    },
    {
     "data": {
      "application/vnd.jupyter.widget-view+json": {
       "model_id": "6d8ab5f57c4847e38cc50eac871518f2",
       "version_major": 2,
       "version_minor": 0
      },
      "text/plain": [
       "[1/1] 100%|########## [00:00<?]"
      ]
     },
     "metadata": {},
     "output_type": "display_data"
    },
    {
     "data": {
      "application/vnd.jupyter.widget-view+json": {
       "model_id": "39d560c497b04e2eb5fc3ff65823b9c0",
       "version_major": 2,
       "version_minor": 0
      },
      "text/plain": [
       "[1/1] 100%|########## [00:00<?]"
      ]
     },
     "metadata": {},
     "output_type": "display_data"
    },
    {
     "data": {
      "application/vnd.jupyter.widget-view+json": {
       "model_id": "df42935509264588af85f408ecccc035",
       "version_major": 2,
       "version_minor": 0
      },
      "text/plain": [
       "[1/1] 100%|########## [00:00<?]"
      ]
     },
     "metadata": {},
     "output_type": "display_data"
    },
    {
     "data": {
      "application/vnd.jupyter.widget-view+json": {
       "model_id": "b2c032a490d54be8a6d1a2515705a686",
       "version_major": 2,
       "version_minor": 0
      },
      "text/plain": [
       "[1/1] 100%|########## [00:00<?]"
      ]
     },
     "metadata": {},
     "output_type": "display_data"
    },
    {
     "data": {
      "application/vnd.jupyter.widget-view+json": {
       "model_id": "dadeddb1176f4c9d84138659135dbbcb",
       "version_major": 2,
       "version_minor": 0
      },
      "text/plain": [
       "[1/1] 100%|########## [00:00<?]"
      ]
     },
     "metadata": {},
     "output_type": "display_data"
    },
    {
     "data": {
      "application/vnd.jupyter.widget-view+json": {
       "model_id": "4bb123e209274753a776318e64303a13",
       "version_major": 2,
       "version_minor": 0
      },
      "text/plain": [
       "[1/1] 100%|########## [00:00<?]"
      ]
     },
     "metadata": {},
     "output_type": "display_data"
    },
    {
     "data": {
      "application/vnd.jupyter.widget-view+json": {
       "model_id": "ccc2ec77eb8e4e3f9a6601d2e7d8cad1",
       "version_major": 2,
       "version_minor": 0
      },
      "text/plain": [
       "[1/1] 100%|########## [00:00<?]"
      ]
     },
     "metadata": {},
     "output_type": "display_data"
    },
    {
     "data": {
      "application/vnd.jupyter.widget-view+json": {
       "model_id": "0bd1744a37124d1b83e4d300395676d0",
       "version_major": 2,
       "version_minor": 0
      },
      "text/plain": [
       "[1/1] 100%|########## [00:00<?]"
      ]
     },
     "metadata": {},
     "output_type": "display_data"
    },
    {
     "data": {
      "application/vnd.jupyter.widget-view+json": {
       "model_id": "0615f5f8b25d4e86aa80df1812ee20f3",
       "version_major": 2,
       "version_minor": 0
      },
      "text/plain": [
       "[1/1] 100%|########## [00:00<?]"
      ]
     },
     "metadata": {},
     "output_type": "display_data"
    },
    {
     "data": {
      "application/vnd.jupyter.widget-view+json": {
       "model_id": "df25db8115314e5fa589bc50e6ccefd0",
       "version_major": 2,
       "version_minor": 0
      },
      "text/plain": [
       "[1/1] 100%|########## [00:00<?]"
      ]
     },
     "metadata": {},
     "output_type": "display_data"
    },
    {
     "data": {
      "application/vnd.jupyter.widget-view+json": {
       "model_id": "faeda7563a634e75aba3e6f50bac5ddb",
       "version_major": 2,
       "version_minor": 0
      },
      "text/plain": [
       "[1/1] 100%|########## [00:00<?]"
      ]
     },
     "metadata": {},
     "output_type": "display_data"
    },
    {
     "data": {
      "application/vnd.jupyter.widget-view+json": {
       "model_id": "8e70350546b043ffa89c3b446d704323",
       "version_major": 2,
       "version_minor": 0
      },
      "text/plain": [
       "[1/1] 100%|########## [00:00<?]"
      ]
     },
     "metadata": {},
     "output_type": "display_data"
    },
    {
     "data": {
      "application/vnd.jupyter.widget-view+json": {
       "model_id": "7ee27efcfc3740ab8b57198841933f51",
       "version_major": 2,
       "version_minor": 0
      },
      "text/plain": [
       "[1/1] 100%|########## [00:00<?]"
      ]
     },
     "metadata": {},
     "output_type": "display_data"
    },
    {
     "data": {
      "application/vnd.jupyter.widget-view+json": {
       "model_id": "aeae0d55496d4c8581606619a108fb03",
       "version_major": 2,
       "version_minor": 0
      },
      "text/plain": [
       "[1/1] 100%|########## [00:00<?]"
      ]
     },
     "metadata": {},
     "output_type": "display_data"
    },
    {
     "data": {
      "application/vnd.jupyter.widget-view+json": {
       "model_id": "f5a2275077e14b30b2003a406674c0bf",
       "version_major": 2,
       "version_minor": 0
      },
      "text/plain": [
       "[1/1] 100%|########## [00:00<?]"
      ]
     },
     "metadata": {},
     "output_type": "display_data"
    },
    {
     "data": {
      "application/vnd.jupyter.widget-view+json": {
       "model_id": "143312b659d34157be0de160bbc37070",
       "version_major": 2,
       "version_minor": 0
      },
      "text/plain": [
       "[1/1] 100%|########## [00:00<?]"
      ]
     },
     "metadata": {},
     "output_type": "display_data"
    },
    {
     "data": {
      "application/vnd.jupyter.widget-view+json": {
       "model_id": "fb62d04dbe954f2685c6a642f3c8a3a8",
       "version_major": 2,
       "version_minor": 0
      },
      "text/plain": [
       "[1/1] 100%|########## [00:00<?]"
      ]
     },
     "metadata": {},
     "output_type": "display_data"
    },
    {
     "data": {
      "application/vnd.jupyter.widget-view+json": {
       "model_id": "bdcb3da8e8ef495881b52b98a676f9b5",
       "version_major": 2,
       "version_minor": 0
      },
      "text/plain": [
       "[1/1] 100%|########## [00:00<?]"
      ]
     },
     "metadata": {},
     "output_type": "display_data"
    },
    {
     "data": {
      "application/vnd.jupyter.widget-view+json": {
       "model_id": "e9c7879a95634394baa539c172a997d5",
       "version_major": 2,
       "version_minor": 0
      },
      "text/plain": [
       "[1/1] 100%|########## [00:00<?]"
      ]
     },
     "metadata": {},
     "output_type": "display_data"
    },
    {
     "data": {
      "application/vnd.jupyter.widget-view+json": {
       "model_id": "bbfe6f7e16d24e7fbe86b0bac50183c8",
       "version_major": 2,
       "version_minor": 0
      },
      "text/plain": [
       "[1/1] 100%|########## [00:00<?]"
      ]
     },
     "metadata": {},
     "output_type": "display_data"
    },
    {
     "data": {
      "application/vnd.jupyter.widget-view+json": {
       "model_id": "f67d4bec174642c2b0e6d0338764015c",
       "version_major": 2,
       "version_minor": 0
      },
      "text/plain": [
       "[1/1] 100%|########## [00:00<?]"
      ]
     },
     "metadata": {},
     "output_type": "display_data"
    },
    {
     "data": {
      "application/vnd.jupyter.widget-view+json": {
       "model_id": "821331d0457a4c368058bd4864cb0c19",
       "version_major": 2,
       "version_minor": 0
      },
      "text/plain": [
       "[1/1] 100%|########## [00:00<?]"
      ]
     },
     "metadata": {},
     "output_type": "display_data"
    },
    {
     "data": {
      "application/vnd.jupyter.widget-view+json": {
       "model_id": "6bfec46334c24e97b60efe775357767c",
       "version_major": 2,
       "version_minor": 0
      },
      "text/plain": [
       "[1/1] 100%|########## [00:00<?]"
      ]
     },
     "metadata": {},
     "output_type": "display_data"
    },
    {
     "data": {
      "application/vnd.jupyter.widget-view+json": {
       "model_id": "e0a486db3017471f9011acb5f4ca0151",
       "version_major": 2,
       "version_minor": 0
      },
      "text/plain": [
       "[1/1] 100%|########## [00:00<?]"
      ]
     },
     "metadata": {},
     "output_type": "display_data"
    },
    {
     "data": {
      "application/vnd.jupyter.widget-view+json": {
       "model_id": "83e32449317f4a72b51f420d3a123673",
       "version_major": 2,
       "version_minor": 0
      },
      "text/plain": [
       "[1/1] 100%|########## [00:00<?]"
      ]
     },
     "metadata": {},
     "output_type": "display_data"
    },
    {
     "data": {
      "application/vnd.jupyter.widget-view+json": {
       "model_id": "cd1200e46ee9450ba3ebbcf62caf4978",
       "version_major": 2,
       "version_minor": 0
      },
      "text/plain": [
       "[1/1] 100%|########## [00:00<?]"
      ]
     },
     "metadata": {},
     "output_type": "display_data"
    },
    {
     "data": {
      "application/vnd.jupyter.widget-view+json": {
       "model_id": "c3e9cc3e081d42b5bdb06f1ef90a354c",
       "version_major": 2,
       "version_minor": 0
      },
      "text/plain": [
       "[1/1] 100%|########## [00:00<?]"
      ]
     },
     "metadata": {},
     "output_type": "display_data"
    },
    {
     "data": {
      "application/vnd.jupyter.widget-view+json": {
       "model_id": "35524c9d5463408690c720a72a5a036f",
       "version_major": 2,
       "version_minor": 0
      },
      "text/plain": [
       "[1/1] 100%|########## [00:00<?]"
      ]
     },
     "metadata": {},
     "output_type": "display_data"
    },
    {
     "data": {
      "application/vnd.jupyter.widget-view+json": {
       "model_id": "db978aa5095843e0bb7a646ebbf87059",
       "version_major": 2,
       "version_minor": 0
      },
      "text/plain": [
       "[1/1] 100%|########## [00:00<?]"
      ]
     },
     "metadata": {},
     "output_type": "display_data"
    },
    {
     "data": {
      "application/vnd.jupyter.widget-view+json": {
       "model_id": "76cc846b30aa4b68a97ab5c73aed9f16",
       "version_major": 2,
       "version_minor": 0
      },
      "text/plain": [
       "[1/1] 100%|########## [00:00<?]"
      ]
     },
     "metadata": {},
     "output_type": "display_data"
    },
    {
     "data": {
      "application/vnd.jupyter.widget-view+json": {
       "model_id": "c788b873c2f547fb8513dbf904e25c03",
       "version_major": 2,
       "version_minor": 0
      },
      "text/plain": [
       "[1/1] 100%|########## [00:00<?]"
      ]
     },
     "metadata": {},
     "output_type": "display_data"
    },
    {
     "data": {
      "application/vnd.jupyter.widget-view+json": {
       "model_id": "64bdb6cd980a44e2bfd7126936ae33a2",
       "version_major": 2,
       "version_minor": 0
      },
      "text/plain": [
       "[1/1] 100%|########## [00:00<?]"
      ]
     },
     "metadata": {},
     "output_type": "display_data"
    },
    {
     "data": {
      "application/vnd.jupyter.widget-view+json": {
       "model_id": "eb4f0f1c488f400bba161ce60b853698",
       "version_major": 2,
       "version_minor": 0
      },
      "text/plain": [
       "[1/1] 100%|########## [00:00<?]"
      ]
     },
     "metadata": {},
     "output_type": "display_data"
    },
    {
     "data": {
      "image/png": "[encoded data removed]",
      "text/plain": [
       "<Figure size 432x288 with 1 Axes>"
      ]
     },
     "metadata": {
      "needs_background": "light"
     },
     "output_type": "display_data"
    }
   ],
   "source": [
    "\"\"\"\n",
    "Hyperparameters tuning\n",
    "Deep learning neural networks are trained using the stochastic gradient descent algorithm.\n",
    "Stochastic gradient descent is an optimization algorithm that estimates the error gradient for the current state of the model using examples from the training dataset, \n",
    "then updates the weights of the model using the back-propagation of errors algorithm,\n",
    "\n",
    "Learning Rate\n",
    "The amount that the weights are updated during training is referred to as the step size or the “learning rate.”\n",
    "Specifically, the learning rate is a configurable hyperparameter used in the training of neural networks that has a small positive value, \n",
    "often in the range between 0.0 and 1.0.\n",
    "\n",
    "The learning rate controls how quickly the model is adapted to the problem. Smaller learning rates require more training epochs \n",
    "given the smaller changes made to the weights each update, \n",
    "whereas larger learning rates result in rapid changes and require fewer training epochs.\n",
    "\n",
    "The challenge of training deep learning neural networks involves carefully selecting the learning rate. \n",
    "It may be the most important hyperparameter for the model.\n",
    "\n",
    "Instead of manually tuning the learning rate, we can use the learning rate scheduler to automatically tune the learning rate.\n",
    "In our case we use FastaiLRFinder to find the best learning rate for our model. \n",
    "FastaiLRFinder is based on this paper Cyclical Learning Rates for Training Neural Networks - https://arxiv.org/abs/1506.01186\n",
    "\"\"\"\n",
    "\n",
    "START_LR = 1e-4\n",
    "WEIGHT_DECAY = 1e-2\n",
    "\n",
    "# optimizer = optim.Adam(model.parameters(), lr=START_LR, weight_decay=WEIGHT_DECAY)\n",
    "optimizer = optim.SGD(model.parameters(), lr=START_LR, weight_decay=WEIGHT_DECAY)\n",
    "\n",
    "device = torch.device('cuda' if torch.cuda.is_available() else 'cpu')\n",
    "criterion = nn.CrossEntropyLoss()\n",
    "\n",
    "model = model.to(device)\n",
    "criterion = criterion.to(device)\n",
    "\n",
    "init_model_state = model.state_dict()\n",
    "init_opt_state = optimizer.state_dict()\n",
    "\n",
    "\n",
    "lr_finder = FastaiLRFinder()\n",
    "to_save = {\"model\": model, \"optimizer\": optimizer}\n",
    "\n",
    "trainer = create_supervised_trainer(\n",
    "    model, optimizer, criterion, device=device\n",
    ")\n",
    "ProgressBar(persist=True).attach(trainer, output_transform=lambda x: {\"batch loss\": x})\n",
    "with lr_finder.attach(trainer, to_save=to_save, end_lr=100, num_iter=100) as trainer_with_lr_finder:\n",
    "    trainer_with_lr_finder.run(train_iterator)\n",
    "\n",
    "from matplotlib import pyplot as plt\n",
    "ax = lr_finder.plot()\n",
    "plt.show()"
   ]
  },
  {
   "cell_type": "code",
   "execution_count": 20,
   "metadata": {},
   "outputs": [
    {
     "name": "stdout",
     "output_type": "stream",
     "text": [
      "0.006309573444801932\n"
     ]
    }
   ],
   "source": [
    "lr_finder.apply_suggested_lr(optimizer)\n",
    "print(optimizer.param_groups[0]['lr'])"
   ]
  },
  {
   "cell_type": "code",
   "execution_count": 21,
   "metadata": {},
   "outputs": [
    {
     "name": "stderr",
     "output_type": "stream",
     "text": [
      "\n",
      "ITERATION - loss: 0.00:   0%|                                                                 | 0/1 [00:00<?, ?it/s]\u001b[A\n",
      "ITERATION - loss: 0.00:   0%|                                                                 | 0/1 [00:14<?, ?it/s]\u001b[AC:\\Users\\DeeCompanyLtd\\anaconda3\\lib\\site-packages\\ignite\\contrib\\handlers\\base_logger.py:135: UserWarning: Logger output_handler can not log metrics value type <class 'torch.Tensor'>\n",
      "  warnings.warn(f\"Logger output_handler can not log metrics value type {type(value)}\")\n",
      "WARNING:root:NaN or Inf found in input tensor.\n",
      "\n",
      "\u001b[A                                                                                                                 \n",
      "ITERATION - loss: 0.00:   0%|                                                                 | 0/1 [00:20<?, ?it/s]\u001b[A"
     ]
    },
    {
     "name": "stdout",
     "output_type": "stream",
     "text": [
      "Training Results - Epoch: 1  Avg accuracy: 0.33 Avg loss: 11.81\n"
     ]
    },
    {
     "name": "stderr",
     "output_type": "stream",
     "text": [
      "WARNING:root:NaN or Inf found in input tensor.\n",
      "\n",
      "\u001b[A                                                                                                                 \n",
      "ITERATION - loss: 0.00:   0%|                                                                 | 0/1 [00:53<?, ?it/s]\u001b[A"
     ]
    },
    {
     "name": "stdout",
     "output_type": "stream",
     "text": [
      "Validation Results - Epoch: 1  Avg accuracy: 0.55 Avg loss: 4.24\n"
     ]
    },
    {
     "data": {
      "application/vnd.jupyter.widget-view+json": {
       "model_id": "97f39074a43c4e92829218e792a157e7",
       "version_major": 2,
       "version_minor": 0
      },
      "text/plain": [
       "[1/1] 100%|########## [00:00<?]"
      ]
     },
     "metadata": {},
     "output_type": "display_data"
    },
    {
     "name": "stderr",
     "output_type": "stream",
     "text": [
      "\n",
      "ITERATION - loss: 0.00:   0%|                                                                 | 0/1 [00:55<?, ?it/s]\u001b[AWARNING:root:NaN or Inf found in input tensor.\n",
      "\n",
      "\u001b[A                                                                                                                 \n",
      "ITERATION - loss: 0.00:   0%|                                                                 | 0/1 [00:57<?, ?it/s]\u001b[A"
     ]
    },
    {
     "name": "stdout",
     "output_type": "stream",
     "text": [
      "Training Results - Epoch: 2  Avg accuracy: 0.33 Avg loss: 22.70\n"
     ]
    },
    {
     "name": "stderr",
     "output_type": "stream",
     "text": [
      "WARNING:root:NaN or Inf found in input tensor.\n",
      "\n",
      "\u001b[A                                                                                                                 \n",
      "ITERATION - loss: 0.00:   0%|                                                                 | 0/1 [01:15<?, ?it/s]\u001b[A\n",
      "                                                                                                                    \u001b[A"
     ]
    },
    {
     "name": "stdout",
     "output_type": "stream",
     "text": [
      "Validation Results - Epoch: 2  Avg accuracy: 0.55 Avg loss: 9.31\n"
     ]
    }
   ],
   "source": [
    "\"\"\"\n",
    "Training Process, we will use egnite to assist training and reporting the learning process.\n",
    "\n",
    "Validation Metrics\n",
    "The F1-score combines the precision and recall of a classifier into a single metric by taking their harmonic mean. \n",
    "It is primarily used to compare the performance of two classifiers. Suppose that classifier A has a higher recall, and classifier B has higher precision.\n",
    "\n",
    "Mathematically, the F1-score is defined as: F1 = 2 * (precision * recall) / (precision + recall)\n",
    "\n",
    "Accuracy\n",
    "Accuracy is defined as the number of classifications a model correctly predicts divided by the total number of predictions made. \n",
    "It's a way of assessing the performance of a model, but certainly not the only way\n",
    "\n",
    "\"\"\"\n",
    "\n",
    "\n",
    "desc = \"ITERATION - loss: {:.2f}\"\n",
    "EPOCHS = 2\n",
    "\n",
    "\n",
    "# Progress bar\n",
    "progress_bar = tqdm(\n",
    "    initial=0, leave=False, total=len(train_iterator), \n",
    "    desc=desc.format(0)\n",
    ")\n",
    "\n",
    "# Metrics\n",
    "precision = Precision(average=False)\n",
    "recall = Recall(average=False)\n",
    "F1 = (precision * recall * 2 / (precision + recall)).mean()\n",
    "\n",
    "val_metrics = {\n",
    "    \"accuracy\": Accuracy(),\n",
    "    \"loss\": Loss(criterion),\n",
    "    \"precision\": precision,\n",
    "    \"recall\": recall,\n",
    "    \"f1\": F1,\n",
    "    \"confusion_matrix\": ConfusionMatrix(num_classes=len(classes))\n",
    "}\n",
    "\n",
    "# create a confusion Matrix\n",
    "def transform_confusion_matrix(matrix):\n",
    "    return matrix.cpu().numpy().astype(int).astype(str)\n",
    "\n",
    "evaluator = create_supervised_evaluator(model, metrics=val_metrics, device=device)\n",
    "\n",
    "log_interval = 30\n",
    "\n",
    "@trainer.on(Events.ITERATION_COMPLETED(every=log_interval))\n",
    "def log_training_loss(engine):\n",
    "    \"\"\"\n",
    "     Log training loss at log_interval\n",
    "     \"\"\"\n",
    "    progress_bar.desc = desc.format(engine.state.output)\n",
    "    progress_bar.update(log_interval)\n",
    "\n",
    "@trainer.on(Events.EPOCH_COMPLETED)\n",
    "def log_training_results(engine):\n",
    "    \"\"\"\n",
    "    Lofts training results at the end of each epoch\n",
    "    \"\"\"\n",
    "    progress_bar.refresh()\n",
    "    evaluator.run(train_iterator)\n",
    "    metrics = evaluator.state.metrics\n",
    "    avg_accuracy = metrics[\"accuracy\"]\n",
    "    avg_loss = metrics[\"loss\"]\n",
    "    \n",
    "    tqdm.write(\n",
    "        \"Training Results - Epoch: {}  Avg accuracy: {:.2f} Avg loss: {:.2f}\"\n",
    "        .format(engine.state.epoch, avg_accuracy, avg_loss)\n",
    "    )\n",
    "\n",
    "def score_function(engine):\n",
    "    return engine.state.metrics['f1']\n",
    "\n",
    "@trainer.on(Events.EPOCH_COMPLETED)\n",
    "def log_validation_results(engine):\n",
    "    evaluator.run(valid_iterator)\n",
    "    metrics = evaluator.state.metrics\n",
    "    avg_accuracy = metrics[\"accuracy\"]\n",
    "    avg_loss = metrics[\"loss\"]\n",
    "\n",
    "    tqdm.write(\n",
    "        \"Validation Results - Epoch: {}  Avg accuracy: {:.2f} Avg loss: {:.2f}\"\n",
    "        .format(engine.state.epoch, avg_accuracy, avg_loss)\n",
    "    )\n",
    "   \n",
    "model_checkpoint = ModelCheckpoint(\n",
    "        dirname=\"{}/models/f1\".format(application_name),\n",
    "        n_saved=2,\n",
    "        require_empty=False,\n",
    "        filename_prefix=\"best_{}\".format(application_name),\n",
    "        create_dir=True,\n",
    "        score_function=score_function,\n",
    "        score_name=\"f1\", # accuracy\n",
    "        global_step_transform=global_step_from_engine(trainer),\n",
    ")\n",
    "\n",
    "# Use this if you want to get the model based on accuracy\n",
    "\n",
    "_model_checkpoint = ModelCheckpoint(\n",
    "        dirname=\"{}/models/accuracy\".format(application_name),\n",
    "        n_saved=2,\n",
    "        require_empty=False,\n",
    "        filename_prefix=\"best_{}\".format(application_name),\n",
    "        create_dir=True,\n",
    "        score_function=score_function,\n",
    "        score_name=\"accuracy\", # accuracy\n",
    "        global_step_transform=global_step_from_engine(trainer),\n",
    ")\n",
    "evaluator.add_event_handler(Events.COMPLETED, model_checkpoint, {\n",
    "    \"model\": model,\n",
    "})\n",
    "\n",
    "evaluator.add_event_handler(Events.COMPLETED, _model_checkpoint, {\n",
    "    \"model\": model,\n",
    "})\n",
    "\n",
    "\"\"\"\n",
    "Logging and monitoring\n",
    "\"\"\"\n",
    "# wandb_logger = WandBLogger(\n",
    "#     project=application_name,\n",
    "#     anonymous=\"allow\",\n",
    "#     name=application_name,\n",
    "#     config={\"max_epochs\": EPOCHS, \"batch_size\": BATCH_SIZE},\n",
    "# )\n",
    "\n",
    "# wandb_logger.attach_output_handler(\n",
    "#     trainer, Events.ITERATION_COMPLETED,\n",
    "#     tag='training',\n",
    "#     output_transform=lambda loss: {'loss': loss},\n",
    "# )\n",
    "# wandb_logger.attach_output_handler(\n",
    "#     evaluator, Events.EPOCH_COMPLETED,\n",
    "#     tag='training',\n",
    "#     metric_names='all',\n",
    "#     global_step_transform=lambda *_: trainer.state.iteration,\n",
    "# )\n",
    "# wandb_logger.attach_opt_params_handler(\n",
    "#     trainer, Events.ITERATION_STARTED,\n",
    "#     optimizer=optimizer,\n",
    "#     param_name='lr',\n",
    "# )\n",
    "\n",
    "tensorboard_logger = TensorboardLogger(\n",
    "    log_dir=\"logs-{}\".format(application_name),\n",
    ")\n",
    "tensorboard_logger.attach_output_handler(\n",
    "    trainer, Events.ITERATION_COMPLETED,\n",
    "    tag='training',\n",
    "    output_transform=lambda loss: {'training loss': loss},\n",
    ")\n",
    "tensorboard_logger.attach_output_handler(\n",
    "    evaluator, Events.EPOCH_COMPLETED,\n",
    "    tag='validation',\n",
    "    metric_names='all',\n",
    "    global_step_transform=global_step_from_engine(trainer),\n",
    ")\n",
    "\n",
    "class ImageDenomalize(object):\n",
    "    def __init__(self, mean, std):\n",
    "        self.mean = mean\n",
    "        self.std = std\n",
    "    def __call__(self, tensor):\n",
    "        for t, m, s in zip(tensor, self.mean, self.std):\n",
    "            t.mul_(s).add_(m)\n",
    "        return tensor\n",
    "\n",
    "\n",
    "def predictions_get_images_handler(engine, logger, *args, **kwargs):\n",
    "    x, _ = engine.state.batch\n",
    "    y_pred, y = engine.state.output\n",
    "    num_x = num_y = len(classes)\n",
    "    le = num_x * num_y\n",
    "    probs, preds = torch.max(torch.exp(y_pred[:le]), dim=1)\n",
    "    fig = plt.figure(figsize=(16, 16))\n",
    "    for idx in range(le):\n",
    "        ax = fig.add_subplot(num_x, num_y, idx + 1, xticks=[], yticks=[])\n",
    "        \n",
    "        try:\n",
    "            # image = x[idx].numpy().transpose((1, 2, 0))\n",
    "            # image = x[idx].permute(1, 2, 0) \n",
    "            image = x[idx]\n",
    "\n",
    "            unormalized_image = ImageDenomalize(\n",
    "                mean=means, std=stds\n",
    "            )\n",
    "            image = unormalized_image(image)\n",
    "            image = transforms.ToPILImage(mode='RGB')(image)\n",
    "        except:\n",
    "            continue\n",
    "\n",
    "        ax.imshow(\n",
    "            image, cmap=\"Greys\"\n",
    "        )\n",
    "        ax.set_title(\"Preds: {0} {1:.1f}%, Actual: (label: {2})\".format(\n",
    "            classes[preds[idx]],\n",
    "            probs[idx],\n",
    "            classes[y[idx]]\n",
    "        ), color=(\"green\" if preds[idx] == y[idx] else \"red\"))\n",
    "    logger.writer.add_figure(\n",
    "        \"Predictions vs actuals\", figure=fig, global_step=trainer.state.epoch\n",
    "    )\n",
    "\n",
    "def plot_confusion_matrix(engine, logger, *args, **kwargs):\n",
    "    confusion_matrix_data = engine.state.metrics['confusion_matrix'].numpy()\n",
    "    \n",
    "    fig = plt.figure(figsize=(16, 16))\n",
    "    ax = fig.add_subplot(1, 1, 1)\n",
    "    _confusion_matrix = ConfusionMatrixDisplay(confusion_matrix_data, display_labels=classes)\n",
    "    _confusion_matrix.plot(ax=ax, cmap='Blues', values_format='d')\n",
    "    plt.xticks(rotation=45)\n",
    "    plt.xlabel('Predicted Label', fontsize = 50)\n",
    "    plt.ylabel('True Label', fontsize = 50)\n",
    "    logger.writer.add_figure(\n",
    "        \"Confusion Matrix\", figure=fig, global_step=trainer.state.epoch\n",
    "    )\n",
    "\n",
    "tensorboard_logger.attach(\n",
    "    evaluator,\n",
    "    event_name=Events.ITERATION_COMPLETED(once=1),\n",
    "    log_handler=predictions_get_images_handler,\n",
    ")\n",
    "tensorboard_logger.attach(\n",
    "    evaluator,\n",
    "    event_name=Events.EPOCH_COMPLETED,\n",
    "    log_handler=plot_confusion_matrix,\n",
    ")\n",
    "\n",
    "# wandb_logger.watch(model, log=\"all\")\n",
    "trainer.run(train_iterator, max_epochs=EPOCHS)\n",
    "\n",
    "progress_bar.close()\n",
    "tensorboard_logger.close()\n",
    "\n",
    "\n",
    "# and attach it to evaluator\n",
    "\n",
    "# wandb_logger._wandb.finish()\n",
    "\n",
    "# f102268ac0afc1f2162c032ef8401883971ada66"
   ]
  },
  {
   "cell_type": "code",
   "execution_count": 22,
   "metadata": {},
   "outputs": [
    {
     "data": {
      "text/plain": [
       "{'diseased': 0, 'healthy': 1}"
      ]
     },
     "execution_count": 22,
     "metadata": {},
     "output_type": "execute_result"
    }
   ],
   "source": [
    "classes_idx = test_data.class_to_idx\n",
    "classes_idx"
   ]
  },
  {
   "cell_type": "code",
   "execution_count": 23,
   "metadata": {},
   "outputs": [
    {
     "name": "stdout",
     "output_type": "stream",
     "text": [
      "Requirement already satisfied: tensorboardX in c:\\users\\deecompanyltd\\anaconda3\\lib\\site-packages (2.5)\n",
      "Requirement already satisfied: protobuf>=3.8.0 in c:\\users\\deecompanyltd\\anaconda3\\lib\\site-packages (from tensorboardX) (3.20.0)\n",
      "Requirement already satisfied: six in c:\\users\\deecompanyltd\\anaconda3\\lib\\site-packages (from tensorboardX) (1.16.0)\n",
      "Requirement already satisfied: numpy in c:\\users\\deecompanyltd\\anaconda3\\lib\\site-packages (from tensorboardX) (1.20.3)\n"
     ]
    }
   ],
   "source": [
    "!pip install tensorboardX"
   ]
  },
  {
   "cell_type": "code",
   "execution_count": null,
   "metadata": {},
   "outputs": [],
   "source": []
  },
  {
   "cell_type": "code",
   "execution_count": 24,
   "metadata": {},
   "outputs": [
    {
     "name": "stdout",
     "output_type": "stream",
     "text": [
      "2\n"
     ]
    },
    {
     "ename": "FileNotFoundError",
     "evalue": "[Errno 2] No such file or directory: 'mangoes-leaves/models/f1/best_mangoes-leaves_model_21_f1=1.0000.pt'",
     "output_type": "error",
     "traceback": [
      "\u001b[1;31m---------------------------------------------------------------------------\u001b[0m",
      "\u001b[1;31mFileNotFoundError\u001b[0m                         Traceback (most recent call last)",
      "\u001b[1;32mC:\\Users\\DEECOM~1\\AppData\\Local\\Temp/ipykernel_5764/1695276217.py\u001b[0m in \u001b[0;36m<module>\u001b[1;34m\u001b[0m\n\u001b[0;32m     11\u001b[0m     \u001b[0mnum_classes\u001b[0m\u001b[1;33m=\u001b[0m\u001b[0mlen\u001b[0m\u001b[1;33m(\u001b[0m\u001b[0mclasses_idx\u001b[0m\u001b[1;33m)\u001b[0m\u001b[1;33m,\u001b[0m\u001b[1;33m\u001b[0m\u001b[1;33m\u001b[0m\u001b[0m\n\u001b[0;32m     12\u001b[0m )\n\u001b[1;32m---> 13\u001b[1;33m \u001b[0mtrained_model\u001b[0m\u001b[1;33m.\u001b[0m\u001b[0mload_state_dict\u001b[0m\u001b[1;33m(\u001b[0m\u001b[0mtorch\u001b[0m\u001b[1;33m.\u001b[0m\u001b[0mload\u001b[0m\u001b[1;33m(\u001b[0m\u001b[0mmodel_path\u001b[0m\u001b[1;33m,\u001b[0m \u001b[0mmap_location\u001b[0m\u001b[1;33m=\u001b[0m\u001b[1;34m'cpu'\u001b[0m\u001b[1;33m)\u001b[0m\u001b[1;33m)\u001b[0m\u001b[1;33m\u001b[0m\u001b[1;33m\u001b[0m\u001b[0m\n\u001b[0m\u001b[0;32m     14\u001b[0m \u001b[0mtrained_model\u001b[0m\u001b[1;33m.\u001b[0m\u001b[0meval\u001b[0m\u001b[1;33m(\u001b[0m\u001b[1;33m)\u001b[0m\u001b[1;33m\u001b[0m\u001b[1;33m\u001b[0m\u001b[0m\n\u001b[0;32m     15\u001b[0m \u001b[1;31m# ml-classfication/dl-classification/datasets/mangoes-leaves/test/diseased/0012_0002.JPG\u001b[0m\u001b[1;33m\u001b[0m\u001b[1;33m\u001b[0m\u001b[0m\n",
      "\u001b[1;32m~\\anaconda3\\lib\\site-packages\\torch\\serialization.py\u001b[0m in \u001b[0;36mload\u001b[1;34m(f, map_location, pickle_module, **pickle_load_args)\u001b[0m\n\u001b[0;32m    697\u001b[0m         \u001b[0mpickle_load_args\u001b[0m\u001b[1;33m[\u001b[0m\u001b[1;34m'encoding'\u001b[0m\u001b[1;33m]\u001b[0m \u001b[1;33m=\u001b[0m \u001b[1;34m'utf-8'\u001b[0m\u001b[1;33m\u001b[0m\u001b[1;33m\u001b[0m\u001b[0m\n\u001b[0;32m    698\u001b[0m \u001b[1;33m\u001b[0m\u001b[0m\n\u001b[1;32m--> 699\u001b[1;33m     \u001b[1;32mwith\u001b[0m \u001b[0m_open_file_like\u001b[0m\u001b[1;33m(\u001b[0m\u001b[0mf\u001b[0m\u001b[1;33m,\u001b[0m \u001b[1;34m'rb'\u001b[0m\u001b[1;33m)\u001b[0m \u001b[1;32mas\u001b[0m \u001b[0mopened_file\u001b[0m\u001b[1;33m:\u001b[0m\u001b[1;33m\u001b[0m\u001b[1;33m\u001b[0m\u001b[0m\n\u001b[0m\u001b[0;32m    700\u001b[0m         \u001b[1;32mif\u001b[0m \u001b[0m_is_zipfile\u001b[0m\u001b[1;33m(\u001b[0m\u001b[0mopened_file\u001b[0m\u001b[1;33m)\u001b[0m\u001b[1;33m:\u001b[0m\u001b[1;33m\u001b[0m\u001b[1;33m\u001b[0m\u001b[0m\n\u001b[0;32m    701\u001b[0m             \u001b[1;31m# The zipfile reader is going to advance the current file position.\u001b[0m\u001b[1;33m\u001b[0m\u001b[1;33m\u001b[0m\u001b[0m\n",
      "\u001b[1;32m~\\anaconda3\\lib\\site-packages\\torch\\serialization.py\u001b[0m in \u001b[0;36m_open_file_like\u001b[1;34m(name_or_buffer, mode)\u001b[0m\n\u001b[0;32m    229\u001b[0m \u001b[1;32mdef\u001b[0m \u001b[0m_open_file_like\u001b[0m\u001b[1;33m(\u001b[0m\u001b[0mname_or_buffer\u001b[0m\u001b[1;33m,\u001b[0m \u001b[0mmode\u001b[0m\u001b[1;33m)\u001b[0m\u001b[1;33m:\u001b[0m\u001b[1;33m\u001b[0m\u001b[1;33m\u001b[0m\u001b[0m\n\u001b[0;32m    230\u001b[0m     \u001b[1;32mif\u001b[0m \u001b[0m_is_path\u001b[0m\u001b[1;33m(\u001b[0m\u001b[0mname_or_buffer\u001b[0m\u001b[1;33m)\u001b[0m\u001b[1;33m:\u001b[0m\u001b[1;33m\u001b[0m\u001b[1;33m\u001b[0m\u001b[0m\n\u001b[1;32m--> 231\u001b[1;33m         \u001b[1;32mreturn\u001b[0m \u001b[0m_open_file\u001b[0m\u001b[1;33m(\u001b[0m\u001b[0mname_or_buffer\u001b[0m\u001b[1;33m,\u001b[0m \u001b[0mmode\u001b[0m\u001b[1;33m)\u001b[0m\u001b[1;33m\u001b[0m\u001b[1;33m\u001b[0m\u001b[0m\n\u001b[0m\u001b[0;32m    232\u001b[0m     \u001b[1;32melse\u001b[0m\u001b[1;33m:\u001b[0m\u001b[1;33m\u001b[0m\u001b[1;33m\u001b[0m\u001b[0m\n\u001b[0;32m    233\u001b[0m         \u001b[1;32mif\u001b[0m \u001b[1;34m'w'\u001b[0m \u001b[1;32min\u001b[0m \u001b[0mmode\u001b[0m\u001b[1;33m:\u001b[0m\u001b[1;33m\u001b[0m\u001b[1;33m\u001b[0m\u001b[0m\n",
      "\u001b[1;32m~\\anaconda3\\lib\\site-packages\\torch\\serialization.py\u001b[0m in \u001b[0;36m__init__\u001b[1;34m(self, name, mode)\u001b[0m\n\u001b[0;32m    210\u001b[0m \u001b[1;32mclass\u001b[0m \u001b[0m_open_file\u001b[0m\u001b[1;33m(\u001b[0m\u001b[0m_opener\u001b[0m\u001b[1;33m)\u001b[0m\u001b[1;33m:\u001b[0m\u001b[1;33m\u001b[0m\u001b[1;33m\u001b[0m\u001b[0m\n\u001b[0;32m    211\u001b[0m     \u001b[1;32mdef\u001b[0m \u001b[0m__init__\u001b[0m\u001b[1;33m(\u001b[0m\u001b[0mself\u001b[0m\u001b[1;33m,\u001b[0m \u001b[0mname\u001b[0m\u001b[1;33m,\u001b[0m \u001b[0mmode\u001b[0m\u001b[1;33m)\u001b[0m\u001b[1;33m:\u001b[0m\u001b[1;33m\u001b[0m\u001b[1;33m\u001b[0m\u001b[0m\n\u001b[1;32m--> 212\u001b[1;33m         \u001b[0msuper\u001b[0m\u001b[1;33m(\u001b[0m\u001b[0m_open_file\u001b[0m\u001b[1;33m,\u001b[0m \u001b[0mself\u001b[0m\u001b[1;33m)\u001b[0m\u001b[1;33m.\u001b[0m\u001b[0m__init__\u001b[0m\u001b[1;33m(\u001b[0m\u001b[0mopen\u001b[0m\u001b[1;33m(\u001b[0m\u001b[0mname\u001b[0m\u001b[1;33m,\u001b[0m \u001b[0mmode\u001b[0m\u001b[1;33m)\u001b[0m\u001b[1;33m)\u001b[0m\u001b[1;33m\u001b[0m\u001b[1;33m\u001b[0m\u001b[0m\n\u001b[0m\u001b[0;32m    213\u001b[0m \u001b[1;33m\u001b[0m\u001b[0m\n\u001b[0;32m    214\u001b[0m     \u001b[1;32mdef\u001b[0m \u001b[0m__exit__\u001b[0m\u001b[1;33m(\u001b[0m\u001b[0mself\u001b[0m\u001b[1;33m,\u001b[0m \u001b[1;33m*\u001b[0m\u001b[0margs\u001b[0m\u001b[1;33m)\u001b[0m\u001b[1;33m:\u001b[0m\u001b[1;33m\u001b[0m\u001b[1;33m\u001b[0m\u001b[0m\n",
      "\u001b[1;31mFileNotFoundError\u001b[0m: [Errno 2] No such file or directory: 'mangoes-leaves/models/f1/best_mangoes-leaves_model_21_f1=1.0000.pt'"
     ]
    }
   ],
   "source": [
    "\"\"\"\n",
    "Loading trained model, and testing \n",
    "\"\"\"\n",
    "\n",
    "\n",
    "from PIL import Image\n",
    "\n",
    "\n",
    "model_path = \"{}/models/f1/best_mangoes-leaves_model_21_f1=1.0000.pt\".format(application_name)\n",
    "trained_model = resnet18(\n",
    "    num_classes=len(classes_idx),\n",
    ")\n",
    "trained_model.load_state_dict(torch.load(model_path, map_location='cpu'))\n",
    "trained_model.eval()\n",
    "# ml-classfication/dl-classification/datasets/mangoes-leaves/test/diseased/0012_0002.JPG\n",
    "image = Image.open(\"datasets/mangoes-leaves/images/test/diseased/0012_0002.JPG\")\n",
    "\n",
    "trans = transforms.Compose([\n",
    "    transforms.Resize((32, 32)),\n",
    "    transforms.ToTensor(),\n",
    "    transforms.Normalize(mean = means, std = stds)\n",
    "])\n",
    "input_tensor = trans(image).unsqueeze(0)\n",
    "input_tensor = input_tensor.to('cpu')\n",
    "\n",
    "output = trained_model(input_tensor)\n",
    "\n",
    "import torch.nn.functional as nnf\n",
    "\n",
    "prob = nnf.softmax(output, dim=1)\n",
    "print(prob)\n",
    "\n",
    "top_p, top_class = prob.topk(1, dim = 1)\n",
    "prob.tolist()[0]\n",
    "confidence, label = top_p.tolist()[0][0], top_class.tolist()[0][0]\n",
    "confidence, label"
   ]
  },
  {
   "cell_type": "code",
   "execution_count": null,
   "metadata": {},
   "outputs": [],
   "source": []
  }
 ],
 "metadata": {
  "interpreter": {
   "hash": "a12016c46ba6d1cff9e53a2b111d976a284d76504e19d1af7c5e6b703b92a430"
  },
  "kernelspec": {
   "display_name": "Python 3 (ipykernel)",
   "language": "python",
   "name": "python3"
  },
  "language_info": {
   "codemirror_mode": {
    "name": "ipython",
    "version": 3
   },
   "file_extension": ".py",
   "mimetype": "text/x-python",
   "name": "python",
   "nbconvert_exporter": "python",
   "pygments_lexer": "ipython3",
   "version": "3.9.7"
  }
 },
 "nbformat": 4,
 "nbformat_minor": 4
}
